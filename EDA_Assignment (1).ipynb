{
 "cells": [
  {
   "cell_type": "markdown",
   "id": "939f0153-14b3-4b10-afcf-f6ff132909ad",
   "metadata": {},
   "source": [
    "***📊 Netflix Customer Data - EDA Assignment***"
   ]
  },
  {
   "cell_type": "markdown",
   "id": "d2aeaa3f-b4c3-4e62-8aa3-7b1a9941a17a",
   "metadata": {},
   "source": [
    "***🎯 Objective:***\n",
    "Explore and analyze the Netflix customer dataset to derive insights into user behavior, subscription patterns, and churn tendencies"
   ]
  },
  {
   "cell_type": "markdown",
   "id": "7c794513-bf83-4c74-bcae-388d77dcfac1",
   "metadata": {},
   "source": [
    "***📌 2. Assignment Tasks***"
   ]
  },
  {
   "cell_type": "markdown",
   "id": "a9ba6fa8-5766-4f1c-af44-d82b243595d7",
   "metadata": {},
   "source": [
    "***✅ Task 1: Data Overview***"
   ]
  },
  {
   "cell_type": "markdown",
   "id": "42eb74c5-56f8-40e7-a91c-5b678cb1ff18",
   "metadata": {},
   "source": [
    "● Display the first 5 rows of the dataset."
   ]
  },
  {
   "cell_type": "code",
   "execution_count": 1,
   "id": "09baf096-6d08-4573-ab63-4f56a36464be",
   "metadata": {},
   "outputs": [],
   "source": [
    "import pandas as pd\n",
    "import numpy as np\n",
    "import matplotlib.pyplot as plt\n",
    "import seaborn as sns"
   ]
  },
  {
   "cell_type": "code",
   "execution_count": 2,
   "id": "a896438d-ee68-431f-917f-cc54d9de9c6f",
   "metadata": {},
   "outputs": [],
   "source": [
    "df = pd.read_csv(\"Datasets ML/netflix_customer_churn.csv\")"
   ]
  },
  {
   "cell_type": "code",
   "execution_count": 3,
   "id": "72f8ce8b-10af-4d2a-ac94-c9cb2bfeb9d0",
   "metadata": {},
   "outputs": [
    {
     "data": {
      "text/html": [
       "<div>\n",
       "<style scoped>\n",
       "    .dataframe tbody tr th:only-of-type {\n",
       "        vertical-align: middle;\n",
       "    }\n",
       "\n",
       "    .dataframe tbody tr th {\n",
       "        vertical-align: top;\n",
       "    }\n",
       "\n",
       "    .dataframe thead th {\n",
       "        text-align: right;\n",
       "    }\n",
       "</style>\n",
       "<table border=\"1\" class=\"dataframe\">\n",
       "  <thead>\n",
       "    <tr style=\"text-align: right;\">\n",
       "      <th></th>\n",
       "      <th>customer_id</th>\n",
       "      <th>age</th>\n",
       "      <th>gender</th>\n",
       "      <th>subscription_type</th>\n",
       "      <th>watch_hours</th>\n",
       "      <th>last_login_days</th>\n",
       "      <th>region</th>\n",
       "      <th>device</th>\n",
       "      <th>monthly_fee</th>\n",
       "      <th>churned</th>\n",
       "      <th>payment_method</th>\n",
       "      <th>number_of_profiles</th>\n",
       "      <th>avg_watch_time_per_day</th>\n",
       "      <th>favorite_genre</th>\n",
       "    </tr>\n",
       "  </thead>\n",
       "  <tbody>\n",
       "    <tr>\n",
       "      <th>0</th>\n",
       "      <td>a9b75100-82a8-427a-a208-72f24052884a</td>\n",
       "      <td>51</td>\n",
       "      <td>Other</td>\n",
       "      <td>Basic</td>\n",
       "      <td>14.73</td>\n",
       "      <td>29</td>\n",
       "      <td>Africa</td>\n",
       "      <td>TV</td>\n",
       "      <td>8.99</td>\n",
       "      <td>1</td>\n",
       "      <td>Gift Card</td>\n",
       "      <td>1</td>\n",
       "      <td>0.49</td>\n",
       "      <td>Action</td>\n",
       "    </tr>\n",
       "    <tr>\n",
       "      <th>1</th>\n",
       "      <td>49a5dfd9-7e69-4022-a6ad-0a1b9767fb5b</td>\n",
       "      <td>47</td>\n",
       "      <td>Other</td>\n",
       "      <td>Standard</td>\n",
       "      <td>0.70</td>\n",
       "      <td>19</td>\n",
       "      <td>Europe</td>\n",
       "      <td>Mobile</td>\n",
       "      <td>13.99</td>\n",
       "      <td>1</td>\n",
       "      <td>Gift Card</td>\n",
       "      <td>5</td>\n",
       "      <td>0.03</td>\n",
       "      <td>Sci-Fi</td>\n",
       "    </tr>\n",
       "    <tr>\n",
       "      <th>2</th>\n",
       "      <td>4d71f6ce-fca9-4ff7-8afa-197ac24de14b</td>\n",
       "      <td>27</td>\n",
       "      <td>Female</td>\n",
       "      <td>Standard</td>\n",
       "      <td>16.32</td>\n",
       "      <td>10</td>\n",
       "      <td>Asia</td>\n",
       "      <td>TV</td>\n",
       "      <td>13.99</td>\n",
       "      <td>0</td>\n",
       "      <td>Crypto</td>\n",
       "      <td>2</td>\n",
       "      <td>1.48</td>\n",
       "      <td>Drama</td>\n",
       "    </tr>\n",
       "    <tr>\n",
       "      <th>3</th>\n",
       "      <td>d3c72c38-631b-4f9e-8a0e-de103cad1a7d</td>\n",
       "      <td>53</td>\n",
       "      <td>Other</td>\n",
       "      <td>Premium</td>\n",
       "      <td>4.51</td>\n",
       "      <td>12</td>\n",
       "      <td>Oceania</td>\n",
       "      <td>TV</td>\n",
       "      <td>17.99</td>\n",
       "      <td>1</td>\n",
       "      <td>Crypto</td>\n",
       "      <td>2</td>\n",
       "      <td>0.35</td>\n",
       "      <td>Horror</td>\n",
       "    </tr>\n",
       "    <tr>\n",
       "      <th>4</th>\n",
       "      <td>4e265c34-103a-4dbb-9553-76c9aa47e946</td>\n",
       "      <td>56</td>\n",
       "      <td>Other</td>\n",
       "      <td>Standard</td>\n",
       "      <td>1.89</td>\n",
       "      <td>13</td>\n",
       "      <td>Africa</td>\n",
       "      <td>Mobile</td>\n",
       "      <td>13.99</td>\n",
       "      <td>1</td>\n",
       "      <td>Crypto</td>\n",
       "      <td>2</td>\n",
       "      <td>0.13</td>\n",
       "      <td>Action</td>\n",
       "    </tr>\n",
       "  </tbody>\n",
       "</table>\n",
       "</div>"
      ],
      "text/plain": [
       "                            customer_id  age  gender subscription_type  \\\n",
       "0  a9b75100-82a8-427a-a208-72f24052884a   51   Other             Basic   \n",
       "1  49a5dfd9-7e69-4022-a6ad-0a1b9767fb5b   47   Other          Standard   \n",
       "2  4d71f6ce-fca9-4ff7-8afa-197ac24de14b   27  Female          Standard   \n",
       "3  d3c72c38-631b-4f9e-8a0e-de103cad1a7d   53   Other           Premium   \n",
       "4  4e265c34-103a-4dbb-9553-76c9aa47e946   56   Other          Standard   \n",
       "\n",
       "   watch_hours  last_login_days   region  device  monthly_fee  churned  \\\n",
       "0        14.73               29   Africa      TV         8.99        1   \n",
       "1         0.70               19   Europe  Mobile        13.99        1   \n",
       "2        16.32               10     Asia      TV        13.99        0   \n",
       "3         4.51               12  Oceania      TV        17.99        1   \n",
       "4         1.89               13   Africa  Mobile        13.99        1   \n",
       "\n",
       "  payment_method  number_of_profiles  avg_watch_time_per_day favorite_genre  \n",
       "0      Gift Card                   1                    0.49         Action  \n",
       "1      Gift Card                   5                    0.03         Sci-Fi  \n",
       "2         Crypto                   2                    1.48          Drama  \n",
       "3         Crypto                   2                    0.35         Horror  \n",
       "4         Crypto                   2                    0.13         Action  "
      ]
     },
     "execution_count": 3,
     "metadata": {},
     "output_type": "execute_result"
    }
   ],
   "source": [
    "df.head(5)"
   ]
  },
  {
   "cell_type": "markdown",
   "id": "350e98fa-3798-41ae-a300-8ce7e6f54999",
   "metadata": {},
   "source": [
    "● Check for missing/null values in the dataset."
   ]
  },
  {
   "cell_type": "code",
   "execution_count": 4,
   "id": "2a919527-a9aa-460e-9679-c1566d12b4da",
   "metadata": {},
   "outputs": [
    {
     "data": {
      "text/plain": [
       "customer_id               0\n",
       "age                       0\n",
       "gender                    0\n",
       "subscription_type         0\n",
       "watch_hours               0\n",
       "last_login_days           0\n",
       "region                    0\n",
       "device                    0\n",
       "monthly_fee               0\n",
       "churned                   0\n",
       "payment_method            0\n",
       "number_of_profiles        0\n",
       "avg_watch_time_per_day    0\n",
       "favorite_genre            0\n",
       "dtype: int64"
      ]
     },
     "execution_count": 4,
     "metadata": {},
     "output_type": "execute_result"
    }
   ],
   "source": [
    "df.isnull().sum()"
   ]
  },
  {
   "cell_type": "markdown",
   "id": "d1daf405-9a79-4411-aba5-eb777aef9a2f",
   "metadata": {},
   "source": [
    "● Check for unique values in columns like gender, subscription_type, region, etc."
   ]
  },
  {
   "cell_type": "code",
   "execution_count": 5,
   "id": "2bf9447f-9292-47f0-93a8-b2a9e1c168a6",
   "metadata": {},
   "outputs": [
    {
     "data": {
      "text/plain": [
       "customer_id               5000\n",
       "age                         53\n",
       "gender                       3\n",
       "subscription_type            3\n",
       "watch_hours               2343\n",
       "last_login_days             61\n",
       "region                       6\n",
       "device                       5\n",
       "monthly_fee                  3\n",
       "churned                      2\n",
       "payment_method               5\n",
       "number_of_profiles           5\n",
       "avg_watch_time_per_day     505\n",
       "favorite_genre               7\n",
       "dtype: int64"
      ]
     },
     "execution_count": 5,
     "metadata": {},
     "output_type": "execute_result"
    }
   ],
   "source": [
    "df.nunique()"
   ]
  },
  {
   "cell_type": "code",
   "execution_count": 6,
   "id": "c7033de2-f27d-4964-8777-84d981041f6a",
   "metadata": {},
   "outputs": [
    {
     "data": {
      "text/plain": [
       "0"
      ]
     },
     "execution_count": 6,
     "metadata": {},
     "output_type": "execute_result"
    }
   ],
   "source": [
    "df.duplicated().sum()"
   ]
  },
  {
   "cell_type": "markdown",
   "id": "0e57b939-8b7b-4210-b764-a21a4c0b8f48",
   "metadata": {},
   "source": [
    "***✅ Task 2: Univariate Analys***"
   ]
  },
  {
   "cell_type": "markdown",
   "id": "17d38902-aaf6-4867-8e75-f1c39b222aaa",
   "metadata": {},
   "source": [
    "● Plot the distribution of:\n",
    "○ age\n",
    "○ watch_hours\n",
    "○ monthly_fee\n",
    "○ churned (0 = No churn, 1 = Churn)"
   ]
  },
  {
   "cell_type": "code",
   "execution_count": 7,
   "id": "9506f413-1326-4933-80a9-6ff163de3b6f",
   "metadata": {},
   "outputs": [
    {
     "data": {
      "text/plain": [
       "(array([597., 481., 484., 485., 410., 555., 448., 495., 483., 562.]),\n",
       " array([18. , 23.2, 28.4, 33.6, 38.8, 44. , 49.2, 54.4, 59.6, 64.8, 70. ]),\n",
       " <BarContainer object of 10 artists>)"
      ]
     },
     "execution_count": 7,
     "metadata": {},
     "output_type": "execute_result"
    },
    {
     "data": {
      "image/png": "[encoded data removed]",
      "text/plain": [
       "<Figure size 640x480 with 1 Axes>"
      ]
     },
     "metadata": {},
     "output_type": "display_data"
    }
   ],
   "source": [
    "plt.hist(df['age'])"
   ]
  },
  {
   "cell_type": "code",
   "execution_count": 8,
   "id": "8a0c6292-f8a6-4822-a91d-d712b214ed58",
   "metadata": {},
   "outputs": [
    {
     "data": {
      "text/plain": [
       "(array([3.081e+03, 1.171e+03, 4.740e+02, 1.430e+02, 8.300e+01, 2.000e+01,\n",
       "        1.200e+01, 1.100e+01, 3.000e+00, 2.000e+00]),\n",
       " array([1.0000e-02, 1.1049e+01, 2.2088e+01, 3.3127e+01, 4.4166e+01,\n",
       "        5.5205e+01, 6.6244e+01, 7.7283e+01, 8.8322e+01, 9.9361e+01,\n",
       "        1.1040e+02]),\n",
       " <BarContainer object of 10 artists>)"
      ]
     },
     "execution_count": 8,
     "metadata": {},
     "output_type": "execute_result"
    },
    {
     "data": {
      "image/png": "[encoded data removed]",
      "text/plain": [
       "<Figure size 640x480 with 1 Axes>"
      ]
     },
     "metadata": {},
     "output_type": "display_data"
    }
   ],
   "source": [
    "plt.hist(df['watch_hours'])"
   ]
  },
  {
   "cell_type": "code",
   "execution_count": 9,
   "id": "a3a638dd-546d-47bf-94fc-0010ca3e0ce4",
   "metadata": {},
   "outputs": [
    {
     "data": {
      "text/plain": [
       "(array([1661.,    0.,    0.,    0.,    0., 1646.,    0.,    0.,    0.,\n",
       "        1693.]),\n",
       " array([ 8.99,  9.89, 10.79, 11.69, 12.59, 13.49, 14.39, 15.29, 16.19,\n",
       "        17.09, 17.99]),\n",
       " <BarContainer object of 10 artists>)"
      ]
     },
     "execution_count": 9,
     "metadata": {},
     "output_type": "execute_result"
    },
    {
     "data": {
      "image/png": "[encoded data removed]",
      "text/plain": [
       "<Figure size 640x480 with 1 Axes>"
      ]
     },
     "metadata": {},
     "output_type": "display_data"
    }
   ],
   "source": [
    "plt.hist(df['monthly_fee'])"
   ]
  },
  {
   "cell_type": "code",
   "execution_count": 10,
   "id": "41ac2872-ccaf-4653-95b1-f0d1e2e1928a",
   "metadata": {},
   "outputs": [
    {
     "data": {
      "text/plain": [
       "churned\n",
       "1    2515\n",
       "0    2485\n",
       "Name: count, dtype: int64"
      ]
     },
     "execution_count": 10,
     "metadata": {},
     "output_type": "execute_result"
    },
    {
     "data": {
      "image/png": "[encoded data removed]",
      "text/plain": [
       "<Figure size 640x480 with 1 Axes>"
      ]
     },
     "metadata": {},
     "output_type": "display_data"
    }
   ],
   "source": [
    "sns.countplot(df,x='churned')\n",
    "df['churned'].value_counts()"
   ]
  },
  {
   "cell_type": "markdown",
   "id": "88ebbc20-6701-4bcc-a7cb-c12dbba36ad0",
   "metadata": {},
   "source": [
    "● Count plots for categorical variables:\n",
    "○ subscription_type\n",
    "○ gender\n",
    "○ region\n",
    "○ device\n",
    "○ payment_method\n",
    "○ favorite_genre"
   ]
  },
  {
   "cell_type": "code",
   "execution_count": 11,
   "id": "52187f62-af10-445b-b469-22ac1b50b829",
   "metadata": {},
   "outputs": [
    {
     "data": {
      "text/plain": [
       "subscription_type\n",
       "Premium     1693\n",
       "Basic       1661\n",
       "Standard    1646\n",
       "Name: count, dtype: int64"
      ]
     },
     "execution_count": 11,
     "metadata": {},
     "output_type": "execute_result"
    },
    {
     "data": {
      "image/png": "[encoded data removed]",
      "text/plain": [
       "<Figure size 640x480 with 1 Axes>"
      ]
     },
     "metadata": {},
     "output_type": "display_data"
    }
   ],
   "source": [
    "sns.countplot(df,x = 'subscription_type')\n",
    "df['subscription_type'].value_counts()"
   ]
  },
  {
   "cell_type": "code",
   "execution_count": 12,
   "id": "bb1c59b2-cfbc-42e9-badb-7632922d7149",
   "metadata": {},
   "outputs": [
    {
     "data": {
      "text/plain": [
       "gender\n",
       "Female    1711\n",
       "Male      1654\n",
       "Other     1635\n",
       "Name: count, dtype: int64"
      ]
     },
     "execution_count": 12,
     "metadata": {},
     "output_type": "execute_result"
    },
    {
     "data": {
      "image/png": "[encoded data removed]",
      "text/plain": [
       "<Figure size 640x480 with 1 Axes>"
      ]
     },
     "metadata": {},
     "output_type": "display_data"
    }
   ],
   "source": [
    "sns.countplot(df,x = 'gender')\n",
    "df['gender'].value_counts()"
   ]
  },
  {
   "cell_type": "code",
   "execution_count": 13,
   "id": "54cfe5b0-3a82-44c4-88ed-2c8df6533cc5",
   "metadata": {},
   "outputs": [
    {
     "data": {
      "text/plain": [
       "region\n",
       "South America    873\n",
       "Europe           867\n",
       "North America    851\n",
       "Asia             841\n",
       "Africa           803\n",
       "Oceania          765\n",
       "Name: count, dtype: int64"
      ]
     },
     "execution_count": 13,
     "metadata": {},
     "output_type": "execute_result"
    },
    {
     "data": {
      "image/png": "[encoded data removed]",
      "text/plain": [
       "<Figure size 640x480 with 1 Axes>"
      ]
     },
     "metadata": {},
     "output_type": "display_data"
    }
   ],
   "source": [
    "sns.countplot(df,x = 'region')\n",
    "df['region'].value_counts()"
   ]
  },
  {
   "cell_type": "code",
   "execution_count": 14,
   "id": "917c2a2d-7e5b-4644-bd42-1f8d30a0cf3f",
   "metadata": {},
   "outputs": [
    {
     "data": {
      "text/plain": [
       "device\n",
       "Tablet     1048\n",
       "Laptop     1006\n",
       "Mobile     1004\n",
       "TV          993\n",
       "Desktop     949\n",
       "Name: count, dtype: int64"
      ]
     },
     "execution_count": 14,
     "metadata": {},
     "output_type": "execute_result"
    },
    {
     "data": {
      "image/png": "[encoded data removed]",
      "text/plain": [
       "<Figure size 640x480 with 1 Axes>"
      ]
     },
     "metadata": {},
     "output_type": "display_data"
    }
   ],
   "source": [
    "sns.countplot(df,x = 'device')\n",
    "df['device'].value_counts()"
   ]
  },
  {
   "cell_type": "code",
   "execution_count": 15,
   "id": "5fdddead-265a-4e36-ad75-a270afc4a692",
   "metadata": {},
   "outputs": [
    {
     "data": {
      "text/plain": [
       "payment_method\n",
       "Debit Card     1030\n",
       "PayPal         1026\n",
       "Crypto          995\n",
       "Gift Card       976\n",
       "Credit Card     973\n",
       "Name: count, dtype: int64"
      ]
     },
     "execution_count": 15,
     "metadata": {},
     "output_type": "execute_result"
    },
    {
     "data": {
      "image/png": "[encoded data removed]",
      "text/plain": [
       "<Figure size 640x480 with 1 Axes>"
      ]
     },
     "metadata": {},
     "output_type": "display_data"
    }
   ],
   "source": [
    "sns.countplot(df,x = 'payment_method')\n",
    "df['payment_method'].value_counts()"
   ]
  },
  {
   "cell_type": "code",
   "execution_count": 16,
   "id": "44736df8-e40a-4888-aac3-fed0fe1361b5",
   "metadata": {},
   "outputs": [
    {
     "data": {
      "text/plain": [
       "favorite_genre\n",
       "Drama          731\n",
       "Documentary    729\n",
       "Romance        725\n",
       "Sci-Fi         720\n",
       "Horror         713\n",
       "Action         697\n",
       "Comedy         685\n",
       "Name: count, dtype: int64"
      ]
     },
     "execution_count": 16,
     "metadata": {},
     "output_type": "execute_result"
    },
    {
     "data": {
      "image/png": "[encoded data removed]",
      "text/plain": [
       "<Figure size 640x480 with 1 Axes>"
      ]
     },
     "metadata": {},
     "output_type": "display_data"
    }
   ],
   "source": [
    "sns.countplot(df,x = 'favorite_genre')\n",
    "df['favorite_genre'].value_counts()"
   ]
  },
  {
   "cell_type": "markdown",
   "id": "0bbd8ba5-1d3a-42ce-95d0-72d6403c1217",
   "metadata": {},
   "source": [
    "***✅ Task 3: Bivariate Analysis***"
   ]
  },
  {
   "cell_type": "markdown",
   "id": "fba47899-5617-41eb-bdde-08ec6c589f4f",
   "metadata": {},
   "source": [
    "● Compare average watch_hours and monthly_fee across:\n",
    "○ subscription_type\n",
    "○ region\n",
    "○ device"
   ]
  },
  {
   "cell_type": "code",
   "execution_count": 17,
   "id": "eb2eb2fe-34c1-44b6-bf54-ca5bfb9e9e1b",
   "metadata": {},
   "outputs": [
    {
     "data": {
      "text/html": [
       "<div>\n",
       "<style scoped>\n",
       "    .dataframe tbody tr th:only-of-type {\n",
       "        vertical-align: middle;\n",
       "    }\n",
       "\n",
       "    .dataframe tbody tr th {\n",
       "        vertical-align: top;\n",
       "    }\n",
       "\n",
       "    .dataframe thead th {\n",
       "        text-align: right;\n",
       "    }\n",
       "</style>\n",
       "<table border=\"1\" class=\"dataframe\">\n",
       "  <thead>\n",
       "    <tr style=\"text-align: right;\">\n",
       "      <th></th>\n",
       "      <th>watch_hours</th>\n",
       "      <th>monthly_fee</th>\n",
       "    </tr>\n",
       "    <tr>\n",
       "      <th>subscription_type</th>\n",
       "      <th></th>\n",
       "      <th></th>\n",
       "    </tr>\n",
       "  </thead>\n",
       "  <tbody>\n",
       "    <tr>\n",
       "      <th>Basic</th>\n",
       "      <td>11.563528</td>\n",
       "      <td>8.99</td>\n",
       "    </tr>\n",
       "    <tr>\n",
       "      <th>Premium</th>\n",
       "      <td>11.706486</td>\n",
       "      <td>17.99</td>\n",
       "    </tr>\n",
       "    <tr>\n",
       "      <th>Standard</th>\n",
       "      <td>11.677491</td>\n",
       "      <td>13.99</td>\n",
       "    </tr>\n",
       "  </tbody>\n",
       "</table>\n",
       "</div>"
      ],
      "text/plain": [
       "                   watch_hours  monthly_fee\n",
       "subscription_type                          \n",
       "Basic                11.563528         8.99\n",
       "Premium              11.706486        17.99\n",
       "Standard             11.677491        13.99"
      ]
     },
     "execution_count": 17,
     "metadata": {},
     "output_type": "execute_result"
    }
   ],
   "source": [
    "df.groupby('subscription_type')[['watch_hours', 'monthly_fee']].mean()"
   ]
  },
  {
   "cell_type": "code",
   "execution_count": 18,
   "id": "cf11a991-7a1e-4d70-87f3-2f39dc680583",
   "metadata": {},
   "outputs": [
    {
     "data": {
      "text/html": [
       "<div>\n",
       "<style scoped>\n",
       "    .dataframe tbody tr th:only-of-type {\n",
       "        vertical-align: middle;\n",
       "    }\n",
       "\n",
       "    .dataframe tbody tr th {\n",
       "        vertical-align: top;\n",
       "    }\n",
       "\n",
       "    .dataframe thead th {\n",
       "        text-align: right;\n",
       "    }\n",
       "</style>\n",
       "<table border=\"1\" class=\"dataframe\">\n",
       "  <thead>\n",
       "    <tr style=\"text-align: right;\">\n",
       "      <th></th>\n",
       "      <th>watch_hours</th>\n",
       "      <th>monthly_fee</th>\n",
       "    </tr>\n",
       "    <tr>\n",
       "      <th>region</th>\n",
       "      <th></th>\n",
       "      <th></th>\n",
       "    </tr>\n",
       "  </thead>\n",
       "  <tbody>\n",
       "    <tr>\n",
       "      <th>Africa</th>\n",
       "      <td>11.667833</td>\n",
       "      <td>13.701083</td>\n",
       "    </tr>\n",
       "    <tr>\n",
       "      <th>Asia</th>\n",
       "      <td>11.282652</td>\n",
       "      <td>13.598799</td>\n",
       "    </tr>\n",
       "    <tr>\n",
       "      <th>Europe</th>\n",
       "      <td>11.418858</td>\n",
       "      <td>13.685502</td>\n",
       "    </tr>\n",
       "    <tr>\n",
       "      <th>North America</th>\n",
       "      <td>11.936557</td>\n",
       "      <td>13.639824</td>\n",
       "    </tr>\n",
       "    <tr>\n",
       "      <th>Oceania</th>\n",
       "      <td>11.743111</td>\n",
       "      <td>13.835752</td>\n",
       "    </tr>\n",
       "    <tr>\n",
       "      <th>South America</th>\n",
       "      <td>11.852955</td>\n",
       "      <td>13.655521</td>\n",
       "    </tr>\n",
       "  </tbody>\n",
       "</table>\n",
       "</div>"
      ],
      "text/plain": [
       "               watch_hours  monthly_fee\n",
       "region                                 \n",
       "Africa           11.667833    13.701083\n",
       "Asia             11.282652    13.598799\n",
       "Europe           11.418858    13.685502\n",
       "North America    11.936557    13.639824\n",
       "Oceania          11.743111    13.835752\n",
       "South America    11.852955    13.655521"
      ]
     },
     "execution_count": 18,
     "metadata": {},
     "output_type": "execute_result"
    }
   ],
   "source": [
    "df.groupby('region')[['watch_hours', 'monthly_fee']].mean()"
   ]
  },
  {
   "cell_type": "code",
   "execution_count": 19,
   "id": "98850ae9-9af1-4673-b402-2d8fb5a51923",
   "metadata": {},
   "outputs": [
    {
     "data": {
      "text/html": [
       "<div>\n",
       "<style scoped>\n",
       "    .dataframe tbody tr th:only-of-type {\n",
       "        vertical-align: middle;\n",
       "    }\n",
       "\n",
       "    .dataframe tbody tr th {\n",
       "        vertical-align: top;\n",
       "    }\n",
       "\n",
       "    .dataframe thead th {\n",
       "        text-align: right;\n",
       "    }\n",
       "</style>\n",
       "<table border=\"1\" class=\"dataframe\">\n",
       "  <thead>\n",
       "    <tr style=\"text-align: right;\">\n",
       "      <th></th>\n",
       "      <th>watch_hours</th>\n",
       "      <th>monthly_fee</th>\n",
       "    </tr>\n",
       "    <tr>\n",
       "      <th>device</th>\n",
       "      <th></th>\n",
       "      <th></th>\n",
       "    </tr>\n",
       "  </thead>\n",
       "  <tbody>\n",
       "    <tr>\n",
       "      <th>Desktop</th>\n",
       "      <td>12.382603</td>\n",
       "      <td>13.920453</td>\n",
       "    </tr>\n",
       "    <tr>\n",
       "      <th>Laptop</th>\n",
       "      <td>11.273400</td>\n",
       "      <td>13.672903</td>\n",
       "    </tr>\n",
       "    <tr>\n",
       "      <th>Mobile</th>\n",
       "      <td>11.961116</td>\n",
       "      <td>13.609522</td>\n",
       "    </tr>\n",
       "    <tr>\n",
       "      <th>TV</th>\n",
       "      <td>11.883202</td>\n",
       "      <td>13.594230</td>\n",
       "    </tr>\n",
       "    <tr>\n",
       "      <th>Tablet</th>\n",
       "      <td>10.826469</td>\n",
       "      <td>13.634084</td>\n",
       "    </tr>\n",
       "  </tbody>\n",
       "</table>\n",
       "</div>"
      ],
      "text/plain": [
       "         watch_hours  monthly_fee\n",
       "device                           \n",
       "Desktop    12.382603    13.920453\n",
       "Laptop     11.273400    13.672903\n",
       "Mobile     11.961116    13.609522\n",
       "TV         11.883202    13.594230\n",
       "Tablet     10.826469    13.634084"
      ]
     },
     "execution_count": 19,
     "metadata": {},
     "output_type": "execute_result"
    }
   ],
   "source": [
    "df.groupby('device')[['watch_hours', 'monthly_fee']].mean()"
   ]
  },
  {
   "cell_type": "markdown",
   "id": "de604df3-d36e-4b0a-ab4a-a2e1eb56b7fd",
   "metadata": {},
   "source": [
    "● Plot average avg_watch_time_per_day by favorite_genre."
   ]
  },
  {
   "cell_type": "code",
   "execution_count": 20,
   "id": "04a152ef-afe4-4e11-a194-4d7df3606868",
   "metadata": {},
   "outputs": [],
   "source": [
    "ave = df.groupby('favorite_genre')['avg_watch_time_per_day'].mean()"
   ]
  },
  {
   "cell_type": "code",
   "execution_count": 21,
   "id": "888787cb-8768-4841-8b36-07626c99a33b",
   "metadata": {},
   "outputs": [
    {
     "data": {
      "text/plain": [
       "<Axes: xlabel='favorite_genre'>"
      ]
     },
     "execution_count": 21,
     "metadata": {},
     "output_type": "execute_result"
    },
    {
     "data": {
      "image/png": "[encoded data removed]",
      "text/plain": [
       "<Figure size 640x480 with 1 Axes>"
      ]
     },
     "metadata": {},
     "output_type": "display_data"
    }
   ],
   "source": [
    "ave.plot(kind='bar')"
   ]
  },
  {
   "cell_type": "markdown",
   "id": "6e49a422-4003-44e3-a4ee-d840df5702d4",
   "metadata": {},
   "source": [
    "● Analyze churn rate based on:\n",
    "○ gender\n",
    "○ region\n",
    "○ subscription_type\n",
    "○ payment_method"
   ]
  },
  {
   "cell_type": "code",
   "execution_count": 22,
   "id": "12abd633-4bd3-4cdd-9bbd-988b060ff8be",
   "metadata": {},
   "outputs": [
    {
     "data": {
      "text/html": [
       "<div>\n",
       "<style scoped>\n",
       "    .dataframe tbody tr th:only-of-type {\n",
       "        vertical-align: middle;\n",
       "    }\n",
       "\n",
       "    .dataframe tbody tr th {\n",
       "        vertical-align: top;\n",
       "    }\n",
       "\n",
       "    .dataframe thead th {\n",
       "        text-align: right;\n",
       "    }\n",
       "</style>\n",
       "<table border=\"1\" class=\"dataframe\">\n",
       "  <thead>\n",
       "    <tr style=\"text-align: right;\">\n",
       "      <th>churned</th>\n",
       "      <th>0</th>\n",
       "      <th>1</th>\n",
       "    </tr>\n",
       "    <tr>\n",
       "      <th>gender</th>\n",
       "      <th></th>\n",
       "      <th></th>\n",
       "    </tr>\n",
       "  </thead>\n",
       "  <tbody>\n",
       "    <tr>\n",
       "      <th>Female</th>\n",
       "      <td>48.918761</td>\n",
       "      <td>51.081239</td>\n",
       "    </tr>\n",
       "    <tr>\n",
       "      <th>Male</th>\n",
       "      <td>50.000000</td>\n",
       "      <td>50.000000</td>\n",
       "    </tr>\n",
       "    <tr>\n",
       "      <th>Other</th>\n",
       "      <td>50.214067</td>\n",
       "      <td>49.785933</td>\n",
       "    </tr>\n",
       "  </tbody>\n",
       "</table>\n",
       "</div>"
      ],
      "text/plain": [
       "churned          0          1\n",
       "gender                       \n",
       "Female   48.918761  51.081239\n",
       "Male     50.000000  50.000000\n",
       "Other    50.214067  49.785933"
      ]
     },
     "execution_count": 22,
     "metadata": {},
     "output_type": "execute_result"
    }
   ],
   "source": [
    "pd.crosstab(df['gender'],df['churned'],normalize = 'index')*100"
   ]
  },
  {
   "cell_type": "code",
   "execution_count": 23,
   "id": "4ee3e8c0-dfb9-41e9-9f06-d5ba678ab81f",
   "metadata": {},
   "outputs": [
    {
     "data": {
      "text/html": [
       "<div>\n",
       "<style scoped>\n",
       "    .dataframe tbody tr th:only-of-type {\n",
       "        vertical-align: middle;\n",
       "    }\n",
       "\n",
       "    .dataframe tbody tr th {\n",
       "        vertical-align: top;\n",
       "    }\n",
       "\n",
       "    .dataframe thead th {\n",
       "        text-align: right;\n",
       "    }\n",
       "</style>\n",
       "<table border=\"1\" class=\"dataframe\">\n",
       "  <thead>\n",
       "    <tr style=\"text-align: right;\">\n",
       "      <th>churned</th>\n",
       "      <th>0</th>\n",
       "      <th>1</th>\n",
       "    </tr>\n",
       "    <tr>\n",
       "      <th>region</th>\n",
       "      <th></th>\n",
       "      <th></th>\n",
       "    </tr>\n",
       "  </thead>\n",
       "  <tbody>\n",
       "    <tr>\n",
       "      <th>Africa</th>\n",
       "      <td>51.681196</td>\n",
       "      <td>48.318804</td>\n",
       "    </tr>\n",
       "    <tr>\n",
       "      <th>Asia</th>\n",
       "      <td>49.346017</td>\n",
       "      <td>50.653983</td>\n",
       "    </tr>\n",
       "    <tr>\n",
       "      <th>Europe</th>\n",
       "      <td>48.327566</td>\n",
       "      <td>51.672434</td>\n",
       "    </tr>\n",
       "    <tr>\n",
       "      <th>North America</th>\n",
       "      <td>50.528790</td>\n",
       "      <td>49.471210</td>\n",
       "    </tr>\n",
       "    <tr>\n",
       "      <th>Oceania</th>\n",
       "      <td>49.934641</td>\n",
       "      <td>50.065359</td>\n",
       "    </tr>\n",
       "    <tr>\n",
       "      <th>South America</th>\n",
       "      <td>48.568156</td>\n",
       "      <td>51.431844</td>\n",
       "    </tr>\n",
       "  </tbody>\n",
       "</table>\n",
       "</div>"
      ],
      "text/plain": [
       "churned                0          1\n",
       "region                             \n",
       "Africa         51.681196  48.318804\n",
       "Asia           49.346017  50.653983\n",
       "Europe         48.327566  51.672434\n",
       "North America  50.528790  49.471210\n",
       "Oceania        49.934641  50.065359\n",
       "South America  48.568156  51.431844"
      ]
     },
     "execution_count": 23,
     "metadata": {},
     "output_type": "execute_result"
    }
   ],
   "source": [
    "pd.crosstab(df['region'],df['churned'],normalize = 'index')*100"
   ]
  },
  {
   "cell_type": "code",
   "execution_count": 24,
   "id": "4b19e3ae-c41d-484e-885c-4323a0e8b67a",
   "metadata": {},
   "outputs": [
    {
     "data": {
      "text/html": [
       "<div>\n",
       "<style scoped>\n",
       "    .dataframe tbody tr th:only-of-type {\n",
       "        vertical-align: middle;\n",
       "    }\n",
       "\n",
       "    .dataframe tbody tr th {\n",
       "        vertical-align: top;\n",
       "    }\n",
       "\n",
       "    .dataframe thead th {\n",
       "        text-align: right;\n",
       "    }\n",
       "</style>\n",
       "<table border=\"1\" class=\"dataframe\">\n",
       "  <thead>\n",
       "    <tr style=\"text-align: right;\">\n",
       "      <th>churned</th>\n",
       "      <th>0</th>\n",
       "      <th>1</th>\n",
       "    </tr>\n",
       "    <tr>\n",
       "      <th>subscription_type</th>\n",
       "      <th></th>\n",
       "      <th></th>\n",
       "    </tr>\n",
       "  </thead>\n",
       "  <tbody>\n",
       "    <tr>\n",
       "      <th>Basic</th>\n",
       "      <td>38.169777</td>\n",
       "      <td>61.830223</td>\n",
       "    </tr>\n",
       "    <tr>\n",
       "      <th>Premium</th>\n",
       "      <td>56.290608</td>\n",
       "      <td>43.709392</td>\n",
       "    </tr>\n",
       "    <tr>\n",
       "      <th>Standard</th>\n",
       "      <td>54.556501</td>\n",
       "      <td>45.443499</td>\n",
       "    </tr>\n",
       "  </tbody>\n",
       "</table>\n",
       "</div>"
      ],
      "text/plain": [
       "churned                    0          1\n",
       "subscription_type                      \n",
       "Basic              38.169777  61.830223\n",
       "Premium            56.290608  43.709392\n",
       "Standard           54.556501  45.443499"
      ]
     },
     "execution_count": 24,
     "metadata": {},
     "output_type": "execute_result"
    }
   ],
   "source": [
    "pd.crosstab(df['subscription_type'],df['churned'],normalize = 'index')*100"
   ]
  },
  {
   "cell_type": "code",
   "execution_count": 25,
   "id": "1c07bb32-0689-4eee-86bd-984b523cf596",
   "metadata": {},
   "outputs": [
    {
     "data": {
      "text/html": [
       "<div>\n",
       "<style scoped>\n",
       "    .dataframe tbody tr th:only-of-type {\n",
       "        vertical-align: middle;\n",
       "    }\n",
       "\n",
       "    .dataframe tbody tr th {\n",
       "        vertical-align: top;\n",
       "    }\n",
       "\n",
       "    .dataframe thead th {\n",
       "        text-align: right;\n",
       "    }\n",
       "</style>\n",
       "<table border=\"1\" class=\"dataframe\">\n",
       "  <thead>\n",
       "    <tr style=\"text-align: right;\">\n",
       "      <th>churned</th>\n",
       "      <th>0</th>\n",
       "      <th>1</th>\n",
       "    </tr>\n",
       "    <tr>\n",
       "      <th>payment_method</th>\n",
       "      <th></th>\n",
       "      <th></th>\n",
       "    </tr>\n",
       "  </thead>\n",
       "  <tbody>\n",
       "    <tr>\n",
       "      <th>Credit Card</th>\n",
       "      <td>56.423433</td>\n",
       "      <td>43.576567</td>\n",
       "    </tr>\n",
       "    <tr>\n",
       "      <th>Crypto</th>\n",
       "      <td>40.301508</td>\n",
       "      <td>59.698492</td>\n",
       "    </tr>\n",
       "    <tr>\n",
       "      <th>Debit Card</th>\n",
       "      <td>56.310680</td>\n",
       "      <td>43.689320</td>\n",
       "    </tr>\n",
       "    <tr>\n",
       "      <th>Gift Card</th>\n",
       "      <td>42.213115</td>\n",
       "      <td>57.786885</td>\n",
       "    </tr>\n",
       "    <tr>\n",
       "      <th>PayPal</th>\n",
       "      <td>52.923977</td>\n",
       "      <td>47.076023</td>\n",
       "    </tr>\n",
       "  </tbody>\n",
       "</table>\n",
       "</div>"
      ],
      "text/plain": [
       "churned                 0          1\n",
       "payment_method                      \n",
       "Credit Card     56.423433  43.576567\n",
       "Crypto          40.301508  59.698492\n",
       "Debit Card      56.310680  43.689320\n",
       "Gift Card       42.213115  57.786885\n",
       "PayPal          52.923977  47.076023"
      ]
     },
     "execution_count": 25,
     "metadata": {},
     "output_type": "execute_result"
    }
   ],
   "source": [
    "pd.crosstab(df['payment_method'],df['churned'],normalize = 'index')*100"
   ]
  },
  {
   "cell_type": "markdown",
   "id": "c14ca6d0-018f-4655-bf81-8e3cbbc7da8e",
   "metadata": {},
   "source": [
    "***✅ Task 4: Correlation Analysis***"
   ]
  },
  {
   "cell_type": "markdown",
   "id": "1a64e9de-df3f-4ffc-84e6-6e66ac360844",
   "metadata": {},
   "source": [
    "● Create a heatmap of correlation between numerical variables"
   ]
  },
  {
   "cell_type": "code",
   "execution_count": 26,
   "id": "596fccc1-33e9-4868-9367-b34479f392b1",
   "metadata": {},
   "outputs": [
    {
     "data": {
      "text/html": [
       "<div>\n",
       "<style scoped>\n",
       "    .dataframe tbody tr th:only-of-type {\n",
       "        vertical-align: middle;\n",
       "    }\n",
       "\n",
       "    .dataframe tbody tr th {\n",
       "        vertical-align: top;\n",
       "    }\n",
       "\n",
       "    .dataframe thead th {\n",
       "        text-align: right;\n",
       "    }\n",
       "</style>\n",
       "<table border=\"1\" class=\"dataframe\">\n",
       "  <thead>\n",
       "    <tr style=\"text-align: right;\">\n",
       "      <th></th>\n",
       "      <th>age</th>\n",
       "      <th>watch_hours</th>\n",
       "      <th>last_login_days</th>\n",
       "      <th>monthly_fee</th>\n",
       "      <th>churned</th>\n",
       "      <th>number_of_profiles</th>\n",
       "      <th>avg_watch_time_per_day</th>\n",
       "    </tr>\n",
       "  </thead>\n",
       "  <tbody>\n",
       "    <tr>\n",
       "      <th>age</th>\n",
       "      <td>1.000000</td>\n",
       "      <td>0.031539</td>\n",
       "      <td>0.016769</td>\n",
       "      <td>-0.013943</td>\n",
       "      <td>-0.003515</td>\n",
       "      <td>0.017333</td>\n",
       "      <td>0.010355</td>\n",
       "    </tr>\n",
       "    <tr>\n",
       "      <th>watch_hours</th>\n",
       "      <td>0.031539</td>\n",
       "      <td>1.000000</td>\n",
       "      <td>0.001697</td>\n",
       "      <td>0.004960</td>\n",
       "      <td>-0.479916</td>\n",
       "      <td>0.016528</td>\n",
       "      <td>0.349742</td>\n",
       "    </tr>\n",
       "    <tr>\n",
       "      <th>last_login_days</th>\n",
       "      <td>0.016769</td>\n",
       "      <td>0.001697</td>\n",
       "      <td>1.000000</td>\n",
       "      <td>-0.000789</td>\n",
       "      <td>0.471590</td>\n",
       "      <td>0.017242</td>\n",
       "      <td>-0.338418</td>\n",
       "    </tr>\n",
       "    <tr>\n",
       "      <th>monthly_fee</th>\n",
       "      <td>-0.013943</td>\n",
       "      <td>0.004960</td>\n",
       "      <td>-0.000789</td>\n",
       "      <td>1.000000</td>\n",
       "      <td>-0.152117</td>\n",
       "      <td>0.021905</td>\n",
       "      <td>-0.010401</td>\n",
       "    </tr>\n",
       "    <tr>\n",
       "      <th>churned</th>\n",
       "      <td>-0.003515</td>\n",
       "      <td>-0.479916</td>\n",
       "      <td>0.471590</td>\n",
       "      <td>-0.152117</td>\n",
       "      <td>1.000000</td>\n",
       "      <td>-0.158614</td>\n",
       "      <td>-0.272958</td>\n",
       "    </tr>\n",
       "    <tr>\n",
       "      <th>number_of_profiles</th>\n",
       "      <td>0.017333</td>\n",
       "      <td>0.016528</td>\n",
       "      <td>0.017242</td>\n",
       "      <td>0.021905</td>\n",
       "      <td>-0.158614</td>\n",
       "      <td>1.000000</td>\n",
       "      <td>-0.001246</td>\n",
       "    </tr>\n",
       "    <tr>\n",
       "      <th>avg_watch_time_per_day</th>\n",
       "      <td>0.010355</td>\n",
       "      <td>0.349742</td>\n",
       "      <td>-0.338418</td>\n",
       "      <td>-0.010401</td>\n",
       "      <td>-0.272958</td>\n",
       "      <td>-0.001246</td>\n",
       "      <td>1.000000</td>\n",
       "    </tr>\n",
       "  </tbody>\n",
       "</table>\n",
       "</div>"
      ],
      "text/plain": [
       "                             age  watch_hours  last_login_days  monthly_fee  \\\n",
       "age                     1.000000     0.031539         0.016769    -0.013943   \n",
       "watch_hours             0.031539     1.000000         0.001697     0.004960   \n",
       "last_login_days         0.016769     0.001697         1.000000    -0.000789   \n",
       "monthly_fee            -0.013943     0.004960        -0.000789     1.000000   \n",
       "churned                -0.003515    -0.479916         0.471590    -0.152117   \n",
       "number_of_profiles      0.017333     0.016528         0.017242     0.021905   \n",
       "avg_watch_time_per_day  0.010355     0.349742        -0.338418    -0.010401   \n",
       "\n",
       "                         churned  number_of_profiles  avg_watch_time_per_day  \n",
       "age                    -0.003515            0.017333                0.010355  \n",
       "watch_hours            -0.479916            0.016528                0.349742  \n",
       "last_login_days         0.471590            0.017242               -0.338418  \n",
       "monthly_fee            -0.152117            0.021905               -0.010401  \n",
       "churned                 1.000000           -0.158614               -0.272958  \n",
       "number_of_profiles     -0.158614            1.000000               -0.001246  \n",
       "avg_watch_time_per_day -0.272958           -0.001246                1.000000  "
      ]
     },
     "execution_count": 26,
     "metadata": {},
     "output_type": "execute_result"
    }
   ],
   "source": [
    "cor = df.corr(numeric_only=True)\n",
    "cor"
   ]
  },
  {
   "cell_type": "code",
   "execution_count": 28,
   "id": "612e5fe3-768f-4bb8-b46d-3d9418ed4428",
   "metadata": {},
   "outputs": [
    {
     "data": {
      "text/plain": [
       "<Axes: >"
      ]
     },
     "execution_count": 28,
     "metadata": {},
     "output_type": "execute_result"
    },
    {
     "data": {
      "image/png": "[encoded data removed]",
      "text/plain": [
       "<Figure size 1000x800 with 2 Axes>"
      ]
     },
     "metadata": {},
     "output_type": "display_data"
    }
   ],
   "source": [
    "plt.figure(figsize=(10, 8))\n",
    "sns.heatmap(cor, annot=True, cmap='coolwarm')"
   ]
  },
  {
   "cell_type": "markdown",
   "id": "e1082977-b182-49d5-bfaf-5ded5b2ed64e",
   "metadata": {},
   "source": [
    "● Look for potential predictors of churn, e.g., watch_hours, last_login_days, monthly_fee."
   ]
  },
  {
   "cell_type": "code",
   "execution_count": 29,
   "id": "8449b6d4-64cd-4bf3-b0ad-2bc91f3628c5",
   "metadata": {},
   "outputs": [
    {
     "data": {
      "text/plain": [
       "age                      -0.003515\n",
       "watch_hours              -0.479916\n",
       "last_login_days           0.471590\n",
       "monthly_fee              -0.152117\n",
       "churned                   1.000000\n",
       "number_of_profiles       -0.158614\n",
       "avg_watch_time_per_day   -0.272958\n",
       "Name: churned, dtype: float64"
      ]
     },
     "execution_count": 29,
     "metadata": {},
     "output_type": "execute_result"
    }
   ],
   "source": [
    "cor['churned']"
   ]
  },
  {
   "cell_type": "markdown",
   "id": "35ee1ed9-e7f1-4961-93a3-14989c61af01",
   "metadata": {},
   "source": [
    "***✅ Task 5: Insights & Recommendations***"
   ]
  },
  {
   "cell_type": "markdown",
   "id": "fcb986ea-7d2f-46f5-b927-68d67c557058",
   "metadata": {},
   "source": [
    "Write 5–7 insights based on your analysis. For example:\n",
    "● Are customers with lower watch hours more likely to churn?\n",
    "● Do Premium users churn more or less than Basic users?\n",
    "● Which region has the highest average watch_hours?"
   ]
  },
  {
   "cell_type": "markdown",
   "id": "9fba2649-ea3c-42ab-86f1-61e1fb3d9a24",
   "metadata": {},
   "source": [
    "***💡 Insights***"
   ]
  },
  {
   "cell_type": "markdown",
   "id": "209f0f41-aef6-4d90-8c70-658ffda0969d",
   "metadata": {},
   "source": [
    "1️⃣ Customers with lower watch_hours are more likely to churn\n",
    "The correlation heatmap shows a negative correlation between watch_hours and churned.\n",
    "\n",
    "Suggests that users who watch less content tend to leave more.\n",
    "\n",
    "2️⃣ Premium users churn less than Basic users\n",
    "From crosstab on subscription_type, churn rate is lower for Premium and higher for Basic.\n",
    "\n",
    "Indicates Premium customers are more engaged and find higher value.\n",
    "\n",
    "3️⃣ Users in North and West regions (example) have higher average watch_hours\n",
    "Your groupby table shows certain regions (e.g., North) have higher engagement.\n",
    "\n",
    "Marketing strategies can focus on low-engagement regions to improve retention.\n",
    "\n",
    "4️⃣ Customers using credit cards (or auto-renewal payment methods) have lower churn\n",
    "Payment method analysis showed lower churn for credit card users.\n",
    "\n",
    "Suggests that auto-renew or seamless payment helps retain users.\n",
    "\n",
    "5️⃣ Users who have higher avg_watch_time_per_day tend to stay\n",
    "Favorite genre analysis showed differences in avg_watch_time_per_day.\n",
    "\n",
    "Genres that lead to higher daily watch time may help keep customers engaged.\n",
    "\n",
    "6️⃣ Users who log in recently are less likely to churn\n",
    "Correlation analysis shows last_login_days positively correlates with churn.\n",
    "\n",
    "Targeting inactive users with reminder emails or special offers can help reduce churn.\n",
    "\n",
    "7️⃣ Higher monthly_fee slightly reduces churn\n",
    "Negative correlation between monthly_fee and churned.\n",
    "\n",
    "Possibly because higher-fee users are more invested or receive better features.\n",
    "\n"
   ]
  },
  {
   "cell_type": "markdown",
   "id": "2b43a1fd-238c-4d2b-989f-be8c3fe1a1d8",
   "metadata": {},
   "source": [
    "***💬 Recommendations***"
   ]
  },
  {
   "cell_type": "markdown",
   "id": "3a4efa1a-7a01-4837-9eb6-d65a79e6b6db",
   "metadata": {},
   "source": [
    "✅ Promote content to low watch_hour users to increase engagement.\n",
    "✅ Encourage auto-renewal payment methods.\n",
    "✅ Offer loyalty or value perks to Basic plan users.\n",
    "✅ Run campaigns targeting inactive users to bring them back.\n",
    "✅ Focus marketing efforts on regions with low watch_hours."
   ]
  },
  {
   "cell_type": "code",
   "execution_count": null,
   "id": "e981b7b7-85a5-49f2-8244-f2af72ab3182",
   "metadata": {},
   "outputs": [],
   "source": []
  }
 ],
 "metadata": {
  "kernelspec": {
   "display_name": "Python [conda env:base] *",
   "language": "python",
   "name": "conda-base-py"
  },
  "language_info": {
   "codemirror_mode": {
    "name": "ipython",
    "version": 3
   },
   "file_extension": ".py",
   "mimetype": "text/x-python",
   "name": "python",
   "nbconvert_exporter": "python",
   "pygments_lexer": "ipython3",
   "version": "3.12.7"
  }
 },
 "nbformat": 4,
 "nbformat_minor": 5
}
